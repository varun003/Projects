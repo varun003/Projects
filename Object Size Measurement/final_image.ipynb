{
 "cells": [
  {
   "cell_type": "code",
   "execution_count": 61,
   "metadata": {},
   "outputs": [
    {
     "name": "stdout",
     "output_type": "stream",
     "text": [
      "coordinates of box: [[218 248]\n",
      " [544 245]\n",
      " [549 928]\n",
      " [224 931]]\n",
      "mid_pt_horizontal (381, 249)\n",
      "mid_pt_vertical (704, 591)\n",
      "Width of box :  326.01 pixel Height of box: 683.02 pixel\n",
      "Width of box :  18.07 cm Height of box: 18.07 cm\n"
     ]
    }
   ],
   "source": [
    "import cv2\n",
    "import numpy as np\n",
    "from scipy.spatial.distance import euclidean\n",
    "\n",
    "img = cv2.imread('images/image3.jpg')\n",
    "# img = cv2.resize(img,(0,0),None,0.5,0.5)\n",
    "gray = cv2.cvtColor(img,cv2.COLOR_BGR2GRAY)\n",
    "blur = cv2.GaussianBlur(gray,(9,9),0)\n",
    "canny = cv2.Canny(blur,50,100)\n",
    "dilate = cv2.dilate(canny,None,iterations=2)\n",
    "erode = cv2.erode(dilate,None,iterations=2)\n",
    "drawing = np.zeros(img.shape,np.uint8)\n",
    "# ret,thresh = cv2.threshold(erode,127,255,0)\n",
    "ret,thresh = cv2.threshold(erode,50,255,cv2.THRESH_BINARY)\n",
    "\n",
    "cnts,hierarchy = cv2.findContours(thresh, cv2.RETR_EXTERNAL,cv2.CHAIN_APPROX_SIMPLE)\n",
    "\n",
    "\n",
    "cnts = [x for x in cnts if cv2.contourArea(x) > 200]\n",
    "cnts = sorted(cnts, key=cv2.contourArea, reverse=True)\n",
    "\n",
    "biggest = cnts[0]\n",
    "\n",
    "#for cnt in biggest:\n",
    "peri = cv2.arcLength(biggest,True)\n",
    "# print('perimeter:',peri)\n",
    "approx = cv2.approxPolyDP(biggest,0.02*peri,True)\n",
    "# box = cv2.boundingRect(approx)\n",
    "box = cv2.minAreaRect(approx)\n",
    "box = cv2.boxPoints(box)   # used with minAreaRect only\n",
    "box = np.int0(box)\n",
    "\n",
    "tl,tr,bl,br = box\n",
    "print('coordinates of box:',box)\n",
    "\n",
    "width_pixel  = round((euclidean(tl,tr)),2)\n",
    "height_pixel = round((euclidean(tr,bl)),2)\n",
    "\n",
    "width_cm  = round((euclidean(tl,tr)/37.8),2)\n",
    "height_cm = round((euclidean(tr,bl)/37.8),2)\n",
    "\n",
    "mid_pt_horizontal = (tl[0] + int(abs(tr[0] - tl[0])/2),tl[1]+ int(abs(tr[1] - tl[1])/2))\n",
    "print('mid_pt_horizontal',mid_pt_horizontal)\n",
    "mid_pt_vertical = (tr[0] + int(abs(tr[0] - br[0])/2),tl[1]+ int(abs(tr[1] - br[1])/2))\n",
    "print('mid_pt_vertical',mid_pt_vertical)\n",
    "\n",
    "\n",
    "print('Width of box : ', width_pixel,'pixel','Height of box:',height_pixel,'pixel')\n",
    "print('Width of box : ',height_cm,'cm','Height of box:',height_cm,'cm')\n",
    "\n",
    "\n",
    "\n",
    "cv2.putText(img, \"{:.1f}cm\".format(width_cm), (int(mid_pt_horizontal[0] -15), int(mid_pt_horizontal[1] -10)), cv2.FONT_HERSHEY_SIMPLEX, 1, (0,0,0), 2)\n",
    "cv2.putText(img, \"{:.1f}cm\".format(height_cm), (int(mid_pt_vertical[0]-100), int(mid_pt_vertical[1]-100)), cv2.FONT_HERSHEY_SIMPLEX,1, (0,0,0), 2)\n",
    "\n",
    "cv2.drawContours(img,[box],-1,(0,255,0),2,lineType=cv2.LINE_AA)\n",
    "\n",
    "cv2.imshow('image',img)\n",
    "cv2.imwrite('images/result_boundingRect_final_cm_ipynb.jpg',img)\n",
    "\n",
    "\n",
    "cv2.waitKey(0)\n",
    "cv2.destroyAllWindows()"
   ]
  }
 ],
 "metadata": {
  "kernelspec": {
   "display_name": "Python 3.10.2 ('pro': venv)",
   "language": "python",
   "name": "python3"
  },
  "language_info": {
   "codemirror_mode": {
    "name": "ipython",
    "version": 3
   },
   "file_extension": ".py",
   "mimetype": "text/x-python",
   "name": "python",
   "nbconvert_exporter": "python",
   "pygments_lexer": "ipython3",
   "version": "3.10.2"
  },
  "orig_nbformat": 4,
  "vscode": {
   "interpreter": {
    "hash": "f2d1fe5bee4d50d4993511fbd3ef36348e1cb55f7ec633f141fdaca40626181a"
   }
  }
 },
 "nbformat": 4,
 "nbformat_minor": 2
}
