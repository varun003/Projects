{
 "cells": [
  {
   "cell_type": "code",
   "execution_count": 2,
   "metadata": {},
   "outputs": [
    {
     "name": "stdout",
     "output_type": "stream",
     "text": [
      "coordinates of box: [[218 248]\n",
      " [544 245]\n",
      " [549 928]\n",
      " [224 931]]\n",
      "Width of box: 326.014 Height of box: 756.965\n",
      "Width of box: 8.625 Height of box: 18.069\n"
     ]
    }
   ],
   "source": [
    "import cv2\n",
    "import numpy as np\n",
    "from scipy.spatial.distance import euclidean\n",
    "\n",
    "img = cv2.imread('images/image3.jpg')\n",
    "# img = cv2.resize(img,(0,0),None,0.5,0.5)\n",
    "gray = cv2.cvtColor(img,cv2.COLOR_BGR2GRAY)\n",
    "blur = cv2.GaussianBlur(gray,(9,9),0)\n",
    "canny = cv2.Canny(blur,50,100)\n",
    "dilate = cv2.dilate(canny,None,iterations=2)\n",
    "erode = cv2.erode(dilate,None,iterations=2)\n",
    "drawing = np.zeros(img.shape,np.uint8)\n",
    "# ret,thresh = cv2.threshold(erode,127,255,0)\n",
    "ret,thresh = cv2.threshold(erode,50,255,cv2.THRESH_BINARY)\n",
    "\n",
    "cnts,hierarchy = cv2.findContours(thresh, cv2.RETR_EXTERNAL,cv2.CHAIN_APPROX_SIMPLE)\n",
    "\n",
    "\n",
    "cnts = [x for x in cnts if cv2.contourArea(x) > 200]\n",
    "cnts = sorted(cnts, key=cv2.contourArea, reverse=True)\n",
    "\n",
    "biggest = cnts[0]\n",
    "\n",
    "#for cnt in biggest:\n",
    "peri = cv2.arcLength(biggest,True)\n",
    "# print('perimeter:',peri)\n",
    "approx = cv2.approxPolyDP(biggest,0.02*peri,True)\n",
    "# box = cv2.boundingRect(approx)\n",
    "box = cv2.minAreaRect(approx)\n",
    "box = cv2.boxPoints(box)   # used with minAreaRect only\n",
    "box = np.int0(box)\n",
    "\n",
    "tl,tr,bl,br = box\n",
    "print('coordinates of box:',box)\n",
    "\n",
    "width_pixel  = round((euclidean(tl,tr)),3)\n",
    "height_pixel = round((euclidean(tr,br)),3)\n",
    "\n",
    "width_cm  = round((euclidean(tl,tr)/37.8),3)\n",
    "height_cm = round((euclidean(tr,bl)/37.8),3)\n",
    "\n",
    "\n",
    "print('Width of box:',width_pixel,'Height of box:',height_pixel)\n",
    "print('Width of box:',width_cm,'Height of box:',height_cm)\n",
    "\n",
    "cv2.drawContours(img,[box],-1,(0,255,0),2,lineType=cv2.LINE_AA)\n",
    "\n",
    "cv2.imshow('image',img)\n",
    "cv2.imwrite('images/result_boundingRect_final.jpg',img)\n",
    "\n",
    "\n",
    "cv2.waitKey(0)\n",
    "cv2.destroyAllWindows()"
   ]
  }
 ],
 "metadata": {
  "kernelspec": {
   "display_name": "Python 3.10.2 ('pro': venv)",
   "language": "python",
   "name": "python3"
  },
  "language_info": {
   "codemirror_mode": {
    "name": "ipython",
    "version": 3
   },
   "file_extension": ".py",
   "mimetype": "text/x-python",
   "name": "python",
   "nbconvert_exporter": "python",
   "pygments_lexer": "ipython3",
   "version": "3.10.2"
  },
  "orig_nbformat": 4,
  "vscode": {
   "interpreter": {
    "hash": "f2d1fe5bee4d50d4993511fbd3ef36348e1cb55f7ec633f141fdaca40626181a"
   }
  }
 },
 "nbformat": 4,
 "nbformat_minor": 2
}
