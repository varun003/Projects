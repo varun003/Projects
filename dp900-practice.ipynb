{
 "cells": [
  {
   "cell_type": "markdown",
   "metadata": {},
   "source": [
    "### Describe core data concepts (25-30 %)"
   ]
  },
  {
   "cell_type": "markdown",
   "metadata": {},
   "source": [
    "structured data ; csv,excel,tables\n",
    "semi-structured data ; json\n",
    "unstructured data ; audio,video files\n",
    "\n",
    "This data is stored in datastores, which can be classififed in 2 categories:\n",
    "1. File stores\n",
    "2. databases\n",
    "\n",
    "File storage:\n",
    "delimited text files\n",
    "xml,json,blob,avro,ORC,parquet\n",
    "\n",
    "databases:\n",
    "relational databases ; sql,mysql\n",
    "non-relational databases; json,postgre-sql,\n",
    "\n",
    "transactional system : records transactions that encapsulate specific events,that organization want to track.\n",
    "OLTP (onlien transactional processing) : Atomicity,consistency,Isolation,Durability,\n",
    "\n",
    "analytical data processing: It uses read-only system that stores vast volume of historical data/businees metrics . ETL (extract transform load)\n",
    "\n",
    "data-lakes,data-warehouses,OLAP (online analytical processing).\n",
    "\n",
    "data scientist : work directly with files in datalake to explore and model data\n",
    "\n",
    "data analyst: might query directly in data warehouse to produce reports and visualizations.\n",
    "\n",
    "Business users might consume pre-aggregared data in analytical model in form of reports/dashboards.\n",
    "\n",
    "\n",
    "### Job roles\n",
    "\n",
    "Database admin : manages database,assign premission to users,storing backup copies of data and restore data in event of failure.\n",
    "\n",
    "data engineers: manage infra and process data integration across the organization,applying data cleaning routines,identifying data governance rules and implementing pipelines to transfer and transform data between systems.\n",
    "\n",
    "data analyst: explore and analyze data to create visulazation for infroamtive decision. \n",
    "\n",
    "\n",
    "### Data services\n",
    "\n",
    "#### Azure SQL\n",
    "it is a collective name for the family of relation database solution based on Microsoft SQL server database.\n",
    "\n",
    "1. azure sql database - fully managed PAAS database hosted on azure\n",
    "2. azure SQL managed instance - hosted instance of SQL server with automated maintenance,which allows flexible configuration than SQL DB but more admin powers for owner.\n",
    "3. azure SQL VM - vVM with sql server,allowing max. configurability with full management responsibility.\n",
    "\n",
    "#### Azure database for Open source relational databases\n",
    "1. azure database for MySQL\n",
    "2. azure database for MariaDB\n",
    "3. azure database for PostGreSQL\n",
    "\n",
    "#### COSMOS DB\n",
    "##### AZURE STORAGE\n",
    "1. BLOB CONTAINER\n",
    "2. FILE SHARES\n",
    "3. TABLES\n",
    "\n",
    "##### AZURE DATA FACTORY\n",
    "USED BY DATA ENGINEERS FOR ETL\n",
    "\n",
    "##### AZURE SYNAPSE ANALYTICS\n",
    "USED AS A UNIFIED DATA ANALYTICS SOLUTION THAT COMBINES DATA INGESTION PIPELINES,DATA WAREHOUSE STORAGE AND DATA LAKE STORAGE THROUGH SINGLE SERVICE.\n",
    "\n",
    "##### AZURE DATABRICKS\n",
    "IT COMBINES APACHE SPARK DATA PROCESSING PLATFORM WITH SQL DATABASE AND AN INTEGRATED INTERFACE TO ENABLE LARGE SCALE DATA ANALYTICS.\n",
    "\n",
    "##### AZURE HDINSIGHT\n",
    "ITS A AZURE HOSTED CLUSTER FOR POPULAR OPEN-SOURCE BIG DATA PROCESSING TECHNIQUES.\n",
    "\n",
    "##### AZURE STREAM ANALYTICS\n",
    "REAL TIME STREAM PROCESSING ENGINE THAT CAPTURES STREAM OF DATA FROM AN INPUT, APPLIES QUERY TO EXTRACT AND MANIPULATE DATA FROM INPUT STREAM AND WRITE RESULT FOR ANALYSIS.\n",
    "\n",
    "##### AZURE DATA EXPLORER\n",
    "USED FOR HIGH PERFORMANCE QUERYING OF LOG AND TELEMETRY DATA\n",
    "\n",
    "##### PURVIEW\n",
    "SOLUTION FOR ENTERPRISE-WIDE DATA GOVERNANCE AND DISCOVERABILITY.\n",
    "USED TO CREATE MAP OF YOUR DATA AND TRACK LINEAGE ACROSS MULTIPLE DATA SOURCES AND SYSTEMS\n",
    "\n",
    "##### POWER-BI\n",
    "VISUALIZATION\n"
   ]
  },
  {
   "cell_type": "markdown",
   "metadata": {},
   "source": [
    "### Identify considerations for relational data on Azure (20—25%)"
   ]
  },
  {
   "cell_type": "markdown",
   "metadata": {},
   "source": [
    "### Describe considerations for working with non-relational data on Azure (15—20%)\n",
    "\n",
    "#### azure blob storage\n",
    "\n",
    "it enables to store massive amount of unstructured data as binary large objects/blobs in cloud.\n",
    "\n",
    "#### azure datalake storage Gen-2\n",
    "\n",
    "this service is used for hierarchical data storage for analytical data lakes,often used by big data solutions\n",
    "\n",
    "#### Azure files\n",
    "\n",
    "way to create cloud based network shares. By hosting file share in azure ,one can elimintae hardware cost and maintenance overhead.\n",
    "\n",
    "#### Azure Tables\n",
    "It can store structured and semi-structured data both.\n",
    "\n",
    "#### Cosmos DB\n",
    "It supports multiple API that enables developers to use programming semantics of many common kind of data store to work with data in CosmosDB.\n",
    "It is highly suitable for IoT and semantics,Retail and Marketing,Gaming,web & mobile apps\n",
    "\n",
    "Core (SQL) API - manages data in JSON document format\n",
    "MongoDB API - Binary JSON format\n",
    "Gremlin API - used with data in graph structure.\n",
    "Table API - used for data in key-value tables\n",
    "Cassandra API - used for data with column-family storage structure\n",
    "\n"
   ]
  },
  {
   "cell_type": "markdown",
   "metadata": {},
   "source": [
    "### Describe an analytics workload on Azure (25—30%)\n",
    "\n",
    "##### Data warehousing architecture\n",
    "\n",
    "1. data ingestion and processing (ETL)\n",
    "2. analytical data store\n",
    "3. analytical data model\n",
    "4. Data visualization\n",
    "\n",
    "A. data warehouse\n",
    "It is a relational database in which data is stored in a schema that is optimized for data analytics rather than transactional workloads.\n",
    "\n",
    "B. data lake\n",
    "It is a file store usually on distributed file system for high performance.\n",
    "\n",
    "#### batch and stream processing\n",
    "\n",
    "1. Batch processing -  in this multiple data records are collected and stored before being processed together in a single operation.\n",
    "2. Stream processing - in this source of data is constantly monitored and processed in real time as new data events occur."
   ]
  },
  {
   "cell_type": "markdown",
   "metadata": {},
   "source": []
  },
  {
   "cell_type": "markdown",
   "metadata": {},
   "source": []
  },
  {
   "cell_type": "code",
   "execution_count": null,
   "metadata": {},
   "outputs": [],
   "source": []
  },
  {
   "cell_type": "code",
   "execution_count": null,
   "metadata": {},
   "outputs": [],
   "source": []
  },
  {
   "cell_type": "code",
   "execution_count": null,
   "metadata": {},
   "outputs": [],
   "source": []
  }
 ],
 "metadata": {
  "kernelspec": {
   "display_name": "Python 3.10.2 ('dp': venv)",
   "language": "python",
   "name": "python3"
  },
  "language_info": {
   "name": "python",
   "version": "3.10.2"
  },
  "orig_nbformat": 4,
  "vscode": {
   "interpreter": {
    "hash": "5139188f7de41af62bf9497da08aa5924aad644e05b3bb76f89d8614cc50553d"
   }
  }
 },
 "nbformat": 4,
 "nbformat_minor": 2
}
